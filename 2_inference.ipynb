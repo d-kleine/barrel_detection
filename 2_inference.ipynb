{
 "cells": [
  {
   "cell_type": "code",
   "execution_count": null,
   "metadata": {},
   "outputs": [],
   "source": [
    "import numpy as np\n",
    "from ultralytics import YOLO\n",
    "from PIL import Image\n",
    "import matplotlib.pyplot as plt\n",
    "\n",
    "# Load the YOLOv8 model\n",
    "model = YOLO(\"runs/barrel/yolov8n_custom/weights/best.pt\")"
   ]
  },
  {
   "cell_type": "code",
   "execution_count": null,
   "metadata": {},
   "outputs": [],
   "source": [
    "# Define the path or URL to the image\n",
    "image_path = \"valid/images/PXL_20240705_130706817_jpg.rf.7fb0e54df807bb41d227ea5df12837c0.jpg\" # should be test image, not valid image (used for testing as there is no test image)\n",
    "\n",
    "# Run inference on the image\n",
    "results = model.predict(image_path, save=True, imgsz=640, conf=0.85)\n",
    "\n",
    "# Get the first result (assuming only one image was passed)\n",
    "result = results[0]\n",
    "\n",
    "# Visualize the detections on the image\n",
    "result_image = result.plot()\n",
    "\n",
    "# Convert the color space from BGR to RGB\n",
    "rgb_image = result_image[:, :, ::-1]\n",
    "\n",
    "# Display the image with detections\n",
    "plt.imshow(rgb_image)\n",
    "plt.axis('off')  # Hide axis\n",
    "plt.show()"
   ]
  },
  {
   "cell_type": "code",
   "execution_count": null,
   "metadata": {},
   "outputs": [],
   "source": [
    "# Extract keypoints for the barrel and the tank\n",
    "# Assuming result.keypoints contains the keypoints in the order specified in your dataset\n",
    "barrel_keypoints = result.keypoints[:3]  # muzzle, top, bottom\n",
    "tank_keypoints = result.keypoints[3:]    # top-right, bottom-right, bottom-left, top-left, rear\n",
    "\n",
    "# Define the keypoints for barrel and tank\n",
    "barrel_points = {\n",
    "    \"muzzle\": barrel_keypoints[0],\n",
    "    \"intersection\": barrel_keypoints[1]\n",
    "}\n",
    "\n",
    "tank_points = {\n",
    "    \"top-right\": tank_keypoints[0],\n",
    "    \"rear\": tank_keypoints[4]\n",
    "}\n",
    "\n",
    "# Function to calculate the angle between two vectors\n",
    "def calculate_angle(pt1, pt2, pt3, pt4):\n",
    "    # Vector from pt1 to pt2 (barrel)\n",
    "    vector1 = np.array(pt2) - np.array(pt1)\n",
    "    # Vector from pt3 to pt4 (tank)\n",
    "    vector2 = np.array(pt4) - np.array(pt3)\n",
    "\n",
    "    # Calculate the angle between two vectors\n",
    "    unit_vector1 = vector1 / np.linalg.norm(vector1)\n",
    "    unit_vector2 = vector2 / np.linalg.norm(vector2)\n",
    "    dot_product = np.dot(unit_vector1, unit_vector2)\n",
    "    angle = np.arccos(dot_product)\n",
    "\n",
    "    # Convert from radians to degrees\n",
    "    angle = np.degrees(angle)\n",
    "    return angle\n",
    "\n",
    "# Calculate the rotation angle between the barrel and the tank\n",
    "angle = calculate_angle(barrel_points[\"muzzle\"], barrel_points[\"intersection\"], tank_points[\"top-right\"], tank_points[\"rear\"])\n",
    "\n",
    "print(f\"Rotation Angle between barrel and tank: {angle:.2f} degrees\")\n",
    "\n",
    "# Visualize the detections on the image\n",
    "result_image = result.plot()\n",
    "\n",
    "# Convert the color space from BGR to RGB\n",
    "rgb_image = result_image[:, :, ::-1]\n",
    "\n",
    "# Display the image with detections\n",
    "Image.fromarray(rgb_image).show()"
   ]
  },
  {
   "cell_type": "code",
   "execution_count": null,
   "metadata": {},
   "outputs": [],
   "source": []
  }
 ],
 "metadata": {
  "kernelspec": {
   "display_name": "augrob",
   "language": "python",
   "name": "python3"
  },
  "language_info": {
   "codemirror_mode": {
    "name": "ipython",
    "version": 3
   },
   "file_extension": ".py",
   "mimetype": "text/x-python",
   "name": "python",
   "nbconvert_exporter": "python",
   "pygments_lexer": "ipython3",
   "version": "3.11.9"
  }
 },
 "nbformat": 4,
 "nbformat_minor": 2
}
