{
 "cells": [
  {
   "cell_type": "code",
   "execution_count": 23,
   "metadata": {},
   "outputs": [],
   "source": [
    "from ultralytics import YOLO\n",
    "from PIL import Image\n",
    "import cv2\n",
    "\n",
    "# Load the YOLOv8 model\n",
    "model = YOLO(\"runs/barrel/yolov8n_custom/weights/best.pt\", task=\"detection\")"
   ]
  },
  {
   "cell_type": "code",
   "execution_count": 24,
   "metadata": {},
   "outputs": [
    {
     "name": "stdout",
     "output_type": "stream",
     "text": [
      "\n",
      "image 1/1 c:\\Users\\dk\\Desktop\\barrel_detection\\datasets\\images\\val\\barrel\\image_0_0.jpg: 640x640 54.5ms\n",
      "Speed: 2.0ms preprocess, 54.5ms inference, 4.0ms postprocess per image at shape (1, 3, 640, 640)\n"
     ]
    }
   ],
   "source": [
    "# Define the path or URL to the image\n",
    "image_path = \"datasets/images/val/barrel/image_0_0.jpg\"\n",
    "\n",
    "# Run inference on the image\n",
    "results = model(image_path)\n",
    "\n",
    "# Get the first result (assuming only one image was passed)\n",
    "result = results[0]\n",
    "\n",
    "# Visualize the detections on the image\n",
    "result_image = result.plot()\n",
    "\n",
    "# Convert the color space from BGR to RGB\n",
    "rgb_image = result_image[:, :, ::-1]\n",
    "\n",
    "# Display the image with detections\n",
    "Image.fromarray(rgb_image).show()"
   ]
  },
  {
   "cell_type": "code",
   "execution_count": 14,
   "metadata": {},
   "outputs": [
    {
     "data": {
      "text/plain": [
       "True"
      ]
     },
     "execution_count": 14,
     "metadata": {},
     "output_type": "execute_result"
    }
   ],
   "source": [
    "# cv2.imwrite('detected_image.jpg', result_image)"
   ]
  }
 ],
 "metadata": {
  "kernelspec": {
   "display_name": "augrob",
   "language": "python",
   "name": "python3"
  },
  "language_info": {
   "codemirror_mode": {
    "name": "ipython",
    "version": 3
   },
   "file_extension": ".py",
   "mimetype": "text/x-python",
   "name": "python",
   "nbconvert_exporter": "python",
   "pygments_lexer": "ipython3",
   "version": "3.11.9"
  }
 },
 "nbformat": 4,
 "nbformat_minor": 2
}
