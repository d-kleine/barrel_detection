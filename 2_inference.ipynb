{
 "cells": [
  {
   "cell_type": "code",
   "execution_count": null,
   "metadata": {},
   "outputs": [],
   "source": [
    "from ultralytics import YOLO\n",
    "import cv2\n",
    "from PIL import Image\n",
    "\n",
    "# Load the YOLOv8 model\n",
    "model = YOLO(\"runs/detect/yolov8n_custom/weights/best.pt\", task=\"detection\")"
   ]
  },
  {
   "cell_type": "code",
   "execution_count": 7,
   "metadata": {},
   "outputs": [
    {
     "name": "stdout",
     "output_type": "stream",
     "text": [
      "\n",
      "image 1/1 c:\\Users\\dk\\Desktop\\toy-tank-barrel-detection\\data\\barrel\\PXL_20240705_130638462.jpg: 640x480 1 barrel, 71.6ms\n",
      "Speed: 4.0ms preprocess, 71.6ms inference, 14.0ms postprocess per image at shape (1, 3, 640, 480)\n"
     ]
    }
   ],
   "source": [
    "# Define the path or URL to the image\n",
    "image_path = \"data/barrel/PXL_20240705_130638462.jpg\"\n",
    "\n",
    "# Run inference on the image\n",
    "results = model(image_path)\n",
    "\n",
    "# Get the first result (assuming only one image was passed)\n",
    "result = results[0]\n",
    "\n",
    "# Visualize the detections on the image\n",
    "result_image = result.plot()\n",
    "\n",
    "# Convert the color space from BGR to RGB\n",
    "rgb_image = result_image[:, :, ::-1]\n",
    "\n",
    "# Display the image with detections\n",
    "Image.fromarray(rgb_image).show()"
   ]
  },
  {
   "cell_type": "code",
   "execution_count": 8,
   "metadata": {},
   "outputs": [
    {
     "name": "stdout",
     "output_type": "stream",
     "text": [
      "Barrel 2D Position: (740.34, 2213.55)\n",
      "Barrel Orientation (Aspect Ratio): 0°\n",
      "Refined Barrel Orientation (Ellipse Fitting): 89.56°\n"
     ]
    }
   ],
   "source": [
    "# Get the bounding box coordinates and confidence score of the detected barrel\n",
    "boxes = result.boxes\n",
    "conf = boxes.conf\n",
    "xyxy = boxes.xyxy\n",
    "\n",
    "# Extract the bounding box coordinates\n",
    "x1, y1, x2, y2 = xyxy[0]  # Assuming only one barrel is detected\n",
    "\n",
    "# Calculate the center point (2D position)\n",
    "center_x = (x1 + x2) / 2\n",
    "center_y = (y1 + y2) / 2\n",
    "\n",
    "print(f\"Barrel 2D Position: ({center_x:.2f}, {center_y:.2f})\")\n",
    "\n",
    "# Calculate the width and height of the bounding box\n",
    "width = x2 - x1\n",
    "height = y2 - y1\n",
    "\n",
    "# Estimate the orientation based on the aspect ratio\n",
    "aspect_ratio = width / height\n",
    "if aspect_ratio > 1:\n",
    "    orientation = 0  # Horizontal\n",
    "else:\n",
    "    orientation = 90  # Vertical\n",
    "\n",
    "print(f\"Barrel Orientation (Aspect Ratio): {orientation}°\")\n",
    "\n",
    "# Refine the orientation estimate using ellipse fitting\n",
    "# Load the image\n",
    "image = cv2.imread(image_path)\n",
    "\n",
    "# Extract the barrel region from the bounding box\n",
    "barrel_region = image[int(y1):int(y2), int(x1):int(x2)]\n",
    "\n",
    "# Convert to grayscale and apply thresholding\n",
    "gray = cv2.cvtColor(barrel_region, cv2.COLOR_BGR2GRAY)\n",
    "_, thresh = cv2.threshold(gray, 0, 255, cv2.THRESH_BINARY_INV + cv2.THRESH_OTSU)\n",
    "\n",
    "# Find contours\n",
    "contours, _ = cv2.findContours(thresh, cv2.RETR_EXTERNAL, cv2.CHAIN_APPROX_SIMPLE)\n",
    "\n",
    "# Find the largest contour (assumed to be the barrel)\n",
    "largest_contour = max(contours, key=cv2.contourArea)\n",
    "\n",
    "# Fit an ellipse to the largest contour\n",
    "ellipse = cv2.fitEllipse(largest_contour)\n",
    "(_, _), (major_axis, _), angle = ellipse\n",
    "\n",
    "# Adjust the angle to be in the range [0, 180)\n",
    "refined_orientation = angle if angle < 90 else angle - 180\n",
    "\n",
    "print(f\"Refined Barrel Orientation (Ellipse Fitting): {refined_orientation:.2f}°\")"
   ]
  }
 ],
 "metadata": {
  "kernelspec": {
   "display_name": "augrob",
   "language": "python",
   "name": "python3"
  },
  "language_info": {
   "codemirror_mode": {
    "name": "ipython",
    "version": 3
   },
   "file_extension": ".py",
   "mimetype": "text/x-python",
   "name": "python",
   "nbconvert_exporter": "python",
   "pygments_lexer": "ipython3",
   "version": "3.11.9"
  }
 },
 "nbformat": 4,
 "nbformat_minor": 2
}
