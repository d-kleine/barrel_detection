{
 "cells": [
  {
   "cell_type": "code",
   "execution_count": 11,
   "metadata": {},
   "outputs": [],
   "source": [
    "from ultralytics import YOLO\n",
    "from PIL import Image\n",
    "\n",
    "# Load the YOLOv8 model\n",
    "model = YOLO(\"runs/detect/yolov8n_custom/weights/best.pt\", task=\"detection\")"
   ]
  },
  {
   "cell_type": "code",
   "execution_count": 12,
   "metadata": {},
   "outputs": [
    {
     "name": "stdout",
     "output_type": "stream",
     "text": [
      "\n",
      "image 1/1 c:\\Users\\dk\\Desktop\\barrel_detection\\datasets\\images\\val\\barrel\\image_0_0.jpg: 640x640 2 barrels, 11.5ms\n",
      "Speed: 1.0ms preprocess, 11.5ms inference, 2.0ms postprocess per image at shape (1, 3, 640, 640)\n"
     ]
    }
   ],
   "source": [
    "# Define the path or URL to the image\n",
    "image_path = \"datasets/images/val/barrel/image_0_0.jpg\"\n",
    "\n",
    "# Run inference on the image\n",
    "results = model(image_path)\n",
    "\n",
    "# Get the first result (assuming only one image was passed)\n",
    "result = results[0]\n",
    "\n",
    "# Visualize the detections on the image\n",
    "result_image = result.plot()\n",
    "\n",
    "# Convert the color space from BGR to RGB\n",
    "rgb_image = result_image[:, :, ::-1]\n",
    "\n",
    "# Display the image with detections\n",
    "Image.fromarray(rgb_image).show()"
   ]
  },
  {
   "cell_type": "code",
   "execution_count": 13,
   "metadata": {},
   "outputs": [
    {
     "name": "stdout",
     "output_type": "stream",
     "text": [
      "Barrel 2D Position: (137.23, 346.97)\n",
      "Barrel Orientation (Aspect Ratio): 0°\n"
     ]
    }
   ],
   "source": [
    "# Get the bounding box coordinates and confidence score of the detected barrel\n",
    "boxes = result.boxes\n",
    "conf = boxes.conf\n",
    "xyxy = boxes.xyxy\n",
    "\n",
    "# Extract the bounding box coordinates\n",
    "x1, y1, x2, y2 = xyxy[0]  # Assuming only one barrel is detected\n",
    "\n",
    "# Calculate the center point (2D position)\n",
    "center_x = (x1 + x2) / 2\n",
    "center_y = (y1 + y2) / 2\n",
    "\n",
    "print(f\"Barrel 2D Position: ({center_x:.2f}, {center_y:.2f})\")\n",
    "\n",
    "# Calculate the width and height of the bounding box\n",
    "width = x2 - x1\n",
    "height = y2 - y1\n",
    "\n",
    "# Estimate the orientation based on the aspect ratio\n",
    "aspect_ratio = width / height\n",
    "if aspect_ratio > 1:\n",
    "    orientation = 0  # Horizontal\n",
    "else:\n",
    "    orientation = 90  # Vertical\n",
    "\n",
    "print(f\"Barrel Orientation (Aspect Ratio): {orientation}°\")"
   ]
  }
 ],
 "metadata": {
  "kernelspec": {
   "display_name": "augrob",
   "language": "python",
   "name": "python3"
  },
  "language_info": {
   "codemirror_mode": {
    "name": "ipython",
    "version": 3
   },
   "file_extension": ".py",
   "mimetype": "text/x-python",
   "name": "python",
   "nbconvert_exporter": "python",
   "pygments_lexer": "ipython3",
   "version": "3.11.9"
  }
 },
 "nbformat": 4,
 "nbformat_minor": 2
}
